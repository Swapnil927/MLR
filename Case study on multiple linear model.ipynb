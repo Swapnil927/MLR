{
 "cells": [
  {
   "cell_type": "code",
   "execution_count": 35,
   "id": "24ce56ba",
   "metadata": {},
   "outputs": [],
   "source": [
    "import pandas as pd\n",
    "import numpy as np\n",
    "\n",
    "import seaborn as sn"
   ]
  },
  {
   "cell_type": "code",
   "execution_count": 36,
   "id": "a8a1df6b",
   "metadata": {},
   "outputs": [
    {
     "data": {
      "text/html": [
       "<div>\n",
       "<style scoped>\n",
       "    .dataframe tbody tr th:only-of-type {\n",
       "        vertical-align: middle;\n",
       "    }\n",
       "\n",
       "    .dataframe tbody tr th {\n",
       "        vertical-align: top;\n",
       "    }\n",
       "\n",
       "    .dataframe thead th {\n",
       "        text-align: right;\n",
       "    }\n",
       "</style>\n",
       "<table border=\"1\" class=\"dataframe\">\n",
       "  <thead>\n",
       "    <tr style=\"text-align: right;\">\n",
       "      <th></th>\n",
       "      <th>age</th>\n",
       "      <th>distance_MRT</th>\n",
       "      <th>stores</th>\n",
       "      <th>latitude</th>\n",
       "      <th>longitude</th>\n",
       "      <th>house_price</th>\n",
       "    </tr>\n",
       "  </thead>\n",
       "  <tbody>\n",
       "    <tr>\n",
       "      <th>0</th>\n",
       "      <td>32.0</td>\n",
       "      <td>84.87882</td>\n",
       "      <td>10</td>\n",
       "      <td>24.98298</td>\n",
       "      <td>121.54024</td>\n",
       "      <td>37.9</td>\n",
       "    </tr>\n",
       "    <tr>\n",
       "      <th>1</th>\n",
       "      <td>19.5</td>\n",
       "      <td>306.59470</td>\n",
       "      <td>9</td>\n",
       "      <td>24.98034</td>\n",
       "      <td>121.53951</td>\n",
       "      <td>42.2</td>\n",
       "    </tr>\n",
       "    <tr>\n",
       "      <th>2</th>\n",
       "      <td>13.3</td>\n",
       "      <td>561.98450</td>\n",
       "      <td>5</td>\n",
       "      <td>24.98746</td>\n",
       "      <td>121.54391</td>\n",
       "      <td>47.3</td>\n",
       "    </tr>\n",
       "    <tr>\n",
       "      <th>3</th>\n",
       "      <td>13.3</td>\n",
       "      <td>561.98450</td>\n",
       "      <td>5</td>\n",
       "      <td>24.98746</td>\n",
       "      <td>121.54391</td>\n",
       "      <td>54.8</td>\n",
       "    </tr>\n",
       "    <tr>\n",
       "      <th>4</th>\n",
       "      <td>5.0</td>\n",
       "      <td>390.56840</td>\n",
       "      <td>5</td>\n",
       "      <td>24.97937</td>\n",
       "      <td>121.54245</td>\n",
       "      <td>43.1</td>\n",
       "    </tr>\n",
       "  </tbody>\n",
       "</table>\n",
       "</div>"
      ],
      "text/plain": [
       "    age  distance_MRT  stores  latitude  longitude  house_price\n",
       "0  32.0      84.87882      10  24.98298  121.54024         37.9\n",
       "1  19.5     306.59470       9  24.98034  121.53951         42.2\n",
       "2  13.3     561.98450       5  24.98746  121.54391         47.3\n",
       "3  13.3     561.98450       5  24.98746  121.54391         54.8\n",
       "4   5.0     390.56840       5  24.97937  121.54245         43.1"
      ]
     },
     "execution_count": 36,
     "metadata": {},
     "output_type": "execute_result"
    }
   ],
   "source": [
    "new=pd.read_excel(r\"C:\\Users\\Sawpnil\\Downloads\\Real estate valuation data set.xlsx\")\n",
    "new.head()"
   ]
  },
  {
   "cell_type": "markdown",
   "id": "36d82c45",
   "metadata": {},
   "source": [
    "# Correlation"
   ]
  },
  {
   "cell_type": "code",
   "execution_count": 37,
   "id": "80f07912",
   "metadata": {},
   "outputs": [
    {
     "data": {
      "text/html": [
       "<div>\n",
       "<style scoped>\n",
       "    .dataframe tbody tr th:only-of-type {\n",
       "        vertical-align: middle;\n",
       "    }\n",
       "\n",
       "    .dataframe tbody tr th {\n",
       "        vertical-align: top;\n",
       "    }\n",
       "\n",
       "    .dataframe thead th {\n",
       "        text-align: right;\n",
       "    }\n",
       "</style>\n",
       "<table border=\"1\" class=\"dataframe\">\n",
       "  <thead>\n",
       "    <tr style=\"text-align: right;\">\n",
       "      <th></th>\n",
       "      <th>age</th>\n",
       "      <th>distance_MRT</th>\n",
       "      <th>stores</th>\n",
       "      <th>latitude</th>\n",
       "      <th>longitude</th>\n",
       "      <th>house_price</th>\n",
       "    </tr>\n",
       "  </thead>\n",
       "  <tbody>\n",
       "    <tr>\n",
       "      <th>age</th>\n",
       "      <td>1.000000</td>\n",
       "      <td>0.024344</td>\n",
       "      <td>0.048563</td>\n",
       "      <td>0.054779</td>\n",
       "      <td>-0.048639</td>\n",
       "      <td>-0.213846</td>\n",
       "    </tr>\n",
       "    <tr>\n",
       "      <th>distance_MRT</th>\n",
       "      <td>0.024344</td>\n",
       "      <td>1.000000</td>\n",
       "      <td>-0.604995</td>\n",
       "      <td>-0.592053</td>\n",
       "      <td>-0.807056</td>\n",
       "      <td>-0.701939</td>\n",
       "    </tr>\n",
       "    <tr>\n",
       "      <th>stores</th>\n",
       "      <td>0.048563</td>\n",
       "      <td>-0.604995</td>\n",
       "      <td>1.000000</td>\n",
       "      <td>0.447329</td>\n",
       "      <td>0.449033</td>\n",
       "      <td>0.620631</td>\n",
       "    </tr>\n",
       "    <tr>\n",
       "      <th>latitude</th>\n",
       "      <td>0.054779</td>\n",
       "      <td>-0.592053</td>\n",
       "      <td>0.447329</td>\n",
       "      <td>1.000000</td>\n",
       "      <td>0.413913</td>\n",
       "      <td>0.564572</td>\n",
       "    </tr>\n",
       "    <tr>\n",
       "      <th>longitude</th>\n",
       "      <td>-0.048639</td>\n",
       "      <td>-0.807056</td>\n",
       "      <td>0.449033</td>\n",
       "      <td>0.413913</td>\n",
       "      <td>1.000000</td>\n",
       "      <td>0.554680</td>\n",
       "    </tr>\n",
       "    <tr>\n",
       "      <th>house_price</th>\n",
       "      <td>-0.213846</td>\n",
       "      <td>-0.701939</td>\n",
       "      <td>0.620631</td>\n",
       "      <td>0.564572</td>\n",
       "      <td>0.554680</td>\n",
       "      <td>1.000000</td>\n",
       "    </tr>\n",
       "  </tbody>\n",
       "</table>\n",
       "</div>"
      ],
      "text/plain": [
       "                   age  distance_MRT    stores  latitude  longitude  \\\n",
       "age           1.000000      0.024344  0.048563  0.054779  -0.048639   \n",
       "distance_MRT  0.024344      1.000000 -0.604995 -0.592053  -0.807056   \n",
       "stores        0.048563     -0.604995  1.000000  0.447329   0.449033   \n",
       "latitude      0.054779     -0.592053  0.447329  1.000000   0.413913   \n",
       "longitude    -0.048639     -0.807056  0.449033  0.413913   1.000000   \n",
       "house_price  -0.213846     -0.701939  0.620631  0.564572   0.554680   \n",
       "\n",
       "              house_price  \n",
       "age             -0.213846  \n",
       "distance_MRT    -0.701939  \n",
       "stores           0.620631  \n",
       "latitude         0.564572  \n",
       "longitude        0.554680  \n",
       "house_price      1.000000  "
      ]
     },
     "execution_count": 37,
     "metadata": {},
     "output_type": "execute_result"
    }
   ],
   "source": [
    "new.corr()"
   ]
  },
  {
   "cell_type": "markdown",
   "id": "50b9cf25",
   "metadata": {},
   "source": [
    "# Removing Outliers in the data"
   ]
  },
  {
   "cell_type": "code",
   "execution_count": 39,
   "id": "fe180942",
   "metadata": {},
   "outputs": [
    {
     "data": {
      "text/plain": [
       "<AxesSubplot:xlabel='distance_MRT'>"
      ]
     },
     "execution_count": 39,
     "metadata": {},
     "output_type": "execute_result"
    },
    {
     "data": {
      "image/png": "[encoded data removed]",
      "text/plain": [
       "<Figure size 640x480 with 1 Axes>"
      ]
     },
     "metadata": {},
     "output_type": "display_data"
    }
   ],
   "source": [
    "sns.boxplot(x='distance_MRT',data=new)"
   ]
  },
  {
   "cell_type": "code",
   "execution_count": 40,
   "id": "c968fd99",
   "metadata": {},
   "outputs": [
    {
     "data": {
      "text/plain": [
       "3205.5078"
      ]
     },
     "execution_count": 40,
     "metadata": {},
     "output_type": "execute_result"
    }
   ],
   "source": [
    "q1 = new['distance_MRT'].quantile(0.25)\n",
    "q3 = new['distance_MRT'].quantile(0.75)\n",
    "iqr = q3-q1 #Interquartile range\n",
    "#low_limit = q1-1.5*iqr #acceptable range\n",
    "upper_limit = q3+1.5*iqr #acceptable range\n",
    "upper_limit"
   ]
  },
  {
   "cell_type": "code",
   "execution_count": 41,
   "id": "d792a7d7",
   "metadata": {},
   "outputs": [],
   "source": [
    "new['distance_MRT']=np.where(new['distance_MRT'] > upper_limit,upper_limit,new['distance_MRT'])"
   ]
  },
  {
   "cell_type": "code",
   "execution_count": 42,
   "id": "d2ef04d7",
   "metadata": {},
   "outputs": [
    {
     "data": {
      "text/plain": [
       "<AxesSubplot:xlabel='distance_MRT'>"
      ]
     },
     "execution_count": 42,
     "metadata": {},
     "output_type": "execute_result"
    },
    {
     "data": {
      "image/png": "[encoded data removed]",
      "text/plain": [
       "<Figure size 640x480 with 1 Axes>"
      ]
     },
     "metadata": {},
     "output_type": "display_data"
    }
   ],
   "source": [
    "sns.boxplot(x='distance_MRT',data=new)"
   ]
  },
  {
   "cell_type": "code",
   "execution_count": 43,
   "id": "70fbddfd",
   "metadata": {},
   "outputs": [
    {
     "data": {
      "text/html": [
       "<div>\n",
       "<style scoped>\n",
       "    .dataframe tbody tr th:only-of-type {\n",
       "        vertical-align: middle;\n",
       "    }\n",
       "\n",
       "    .dataframe tbody tr th {\n",
       "        vertical-align: top;\n",
       "    }\n",
       "\n",
       "    .dataframe thead th {\n",
       "        text-align: right;\n",
       "    }\n",
       "</style>\n",
       "<table border=\"1\" class=\"dataframe\">\n",
       "  <thead>\n",
       "    <tr style=\"text-align: right;\">\n",
       "      <th></th>\n",
       "      <th>age</th>\n",
       "      <th>distance_MRT</th>\n",
       "      <th>stores</th>\n",
       "      <th>latitude</th>\n",
       "      <th>longitude</th>\n",
       "      <th>house_price</th>\n",
       "    </tr>\n",
       "  </thead>\n",
       "  <tbody>\n",
       "    <tr>\n",
       "      <th>age</th>\n",
       "      <td>1.000000</td>\n",
       "      <td>-0.005194</td>\n",
       "      <td>0.048563</td>\n",
       "      <td>0.054779</td>\n",
       "      <td>-0.048639</td>\n",
       "      <td>-0.213846</td>\n",
       "    </tr>\n",
       "    <tr>\n",
       "      <th>distance_MRT</th>\n",
       "      <td>-0.005194</td>\n",
       "      <td>1.000000</td>\n",
       "      <td>-0.646510</td>\n",
       "      <td>-0.581704</td>\n",
       "      <td>-0.762392</td>\n",
       "      <td>-0.733758</td>\n",
       "    </tr>\n",
       "    <tr>\n",
       "      <th>stores</th>\n",
       "      <td>0.048563</td>\n",
       "      <td>-0.646510</td>\n",
       "      <td>1.000000</td>\n",
       "      <td>0.447329</td>\n",
       "      <td>0.449033</td>\n",
       "      <td>0.620631</td>\n",
       "    </tr>\n",
       "    <tr>\n",
       "      <th>latitude</th>\n",
       "      <td>0.054779</td>\n",
       "      <td>-0.581704</td>\n",
       "      <td>0.447329</td>\n",
       "      <td>1.000000</td>\n",
       "      <td>0.413913</td>\n",
       "      <td>0.564572</td>\n",
       "    </tr>\n",
       "    <tr>\n",
       "      <th>longitude</th>\n",
       "      <td>-0.048639</td>\n",
       "      <td>-0.762392</td>\n",
       "      <td>0.449033</td>\n",
       "      <td>0.413913</td>\n",
       "      <td>1.000000</td>\n",
       "      <td>0.554680</td>\n",
       "    </tr>\n",
       "    <tr>\n",
       "      <th>house_price</th>\n",
       "      <td>-0.213846</td>\n",
       "      <td>-0.733758</td>\n",
       "      <td>0.620631</td>\n",
       "      <td>0.564572</td>\n",
       "      <td>0.554680</td>\n",
       "      <td>1.000000</td>\n",
       "    </tr>\n",
       "  </tbody>\n",
       "</table>\n",
       "</div>"
      ],
      "text/plain": [
       "                   age  distance_MRT    stores  latitude  longitude  \\\n",
       "age           1.000000     -0.005194  0.048563  0.054779  -0.048639   \n",
       "distance_MRT -0.005194      1.000000 -0.646510 -0.581704  -0.762392   \n",
       "stores        0.048563     -0.646510  1.000000  0.447329   0.449033   \n",
       "latitude      0.054779     -0.581704  0.447329  1.000000   0.413913   \n",
       "longitude    -0.048639     -0.762392  0.449033  0.413913   1.000000   \n",
       "house_price  -0.213846     -0.733758  0.620631  0.564572   0.554680   \n",
       "\n",
       "              house_price  \n",
       "age             -0.213846  \n",
       "distance_MRT    -0.733758  \n",
       "stores           0.620631  \n",
       "latitude         0.564572  \n",
       "longitude        0.554680  \n",
       "house_price      1.000000  "
      ]
     },
     "execution_count": 43,
     "metadata": {},
     "output_type": "execute_result"
    }
   ],
   "source": [
    "new.corr()"
   ]
  },
  {
   "cell_type": "code",
   "execution_count": 44,
   "id": "60181c2f",
   "metadata": {},
   "outputs": [
    {
     "data": {
      "text/plain": [
       "<AxesSubplot:xlabel='latitude'>"
      ]
     },
     "execution_count": 44,
     "metadata": {},
     "output_type": "execute_result"
    },
    {
     "data": {
      "image/png": "[encoded data removed]",
      "text/plain": [
       "<Figure size 640x480 with 1 Axes>"
      ]
     },
     "metadata": {},
     "output_type": "display_data"
    }
   ],
   "source": [
    "sns.boxplot(x='latitude',data=new)"
   ]
  },
  {
   "cell_type": "code",
   "execution_count": 45,
   "id": "f7857658",
   "metadata": {},
   "outputs": [],
   "source": [
    "q1 = new['latitude'].quantile(0.25)\n",
    "q3 = new['latitude'].quantile(0.75)\n",
    "iqr = q3-q1\n",
    "low_limit = q1-1.5*iqr\n",
    "upper_limit = q3+1.5*iqr "
   ]
  },
  {
   "cell_type": "code",
   "execution_count": 46,
   "id": "9af28d3e",
   "metadata": {},
   "outputs": [],
   "source": [
    "new['latitude']=np.where(new['latitude'] > upper_limit,upper_limit,new['latitude'])\n",
    "new['latitude']=np.where(new['latitude'] < low_limit,low_limit,new['latitude'])"
   ]
  },
  {
   "cell_type": "code",
   "execution_count": 47,
   "id": "0603451b",
   "metadata": {},
   "outputs": [
    {
     "data": {
      "text/plain": [
       "<AxesSubplot:xlabel='latitude'>"
      ]
     },
     "execution_count": 47,
     "metadata": {},
     "output_type": "execute_result"
    },
    {
     "data": {
      "image/png": "[encoded data removed]",
      "text/plain": [
       "<Figure size 640x480 with 1 Axes>"
      ]
     },
     "metadata": {},
     "output_type": "display_data"
    }
   ],
   "source": [
    "sns.boxplot(x='latitude',data=new)"
   ]
  },
  {
   "cell_type": "code",
   "execution_count": 48,
   "id": "ca98ee68",
   "metadata": {},
   "outputs": [
    {
     "data": {
      "text/plain": [
       "<AxesSubplot:xlabel='longitude'>"
      ]
     },
     "execution_count": 48,
     "metadata": {},
     "output_type": "execute_result"
    },
    {
     "data": {
      "image/png": "[encoded data removed]",
      "text/plain": [
       "<Figure size 640x480 with 1 Axes>"
      ]
     },
     "metadata": {},
     "output_type": "display_data"
    }
   ],
   "source": [
    "sns.boxplot(x='longitude',data=new)"
   ]
  },
  {
   "cell_type": "code",
   "execution_count": 49,
   "id": "6b97f690",
   "metadata": {},
   "outputs": [],
   "source": [
    "q1 = new['longitude'].quantile(0.25)\n",
    "q3 = new['longitude'].quantile(0.75)\n",
    "iqr = q3-q1\n",
    "low_limit = q1-1.5*iqr\n",
    "upper_limit = q3+1.5*iqr \n",
    "new['longitude']=np.where(new['longitude'] > upper_limit,upper_limit,new['longitude'])\n",
    "new['longitude']=np.where(new['longitude'] < low_limit,low_limit,new['longitude'])"
   ]
  },
  {
   "cell_type": "code",
   "execution_count": 50,
   "id": "54ab509e",
   "metadata": {},
   "outputs": [
    {
     "data": {
      "text/plain": [
       "<AxesSubplot:xlabel='longitude'>"
      ]
     },
     "execution_count": 50,
     "metadata": {},
     "output_type": "execute_result"
    },
    {
     "data": {
      "image/png": "[encoded data removed]",
      "text/plain": [
       "<Figure size 640x480 with 1 Axes>"
      ]
     },
     "metadata": {},
     "output_type": "display_data"
    }
   ],
   "source": [
    "sns.boxplot(x='longitude',data=new)"
   ]
  },
  {
   "cell_type": "code",
   "execution_count": 51,
   "id": "3d58c602",
   "metadata": {},
   "outputs": [
    {
     "data": {
      "text/html": [
       "<div>\n",
       "<style scoped>\n",
       "    .dataframe tbody tr th:only-of-type {\n",
       "        vertical-align: middle;\n",
       "    }\n",
       "\n",
       "    .dataframe tbody tr th {\n",
       "        vertical-align: top;\n",
       "    }\n",
       "\n",
       "    .dataframe thead th {\n",
       "        text-align: right;\n",
       "    }\n",
       "</style>\n",
       "<table border=\"1\" class=\"dataframe\">\n",
       "  <thead>\n",
       "    <tr style=\"text-align: right;\">\n",
       "      <th></th>\n",
       "      <th>age</th>\n",
       "      <th>distance_MRT</th>\n",
       "      <th>stores</th>\n",
       "      <th>latitude</th>\n",
       "      <th>longitude</th>\n",
       "      <th>house_price</th>\n",
       "    </tr>\n",
       "  </thead>\n",
       "  <tbody>\n",
       "    <tr>\n",
       "      <th>age</th>\n",
       "      <td>1.000000</td>\n",
       "      <td>-0.005194</td>\n",
       "      <td>0.048563</td>\n",
       "      <td>0.056169</td>\n",
       "      <td>-0.030090</td>\n",
       "      <td>-0.213846</td>\n",
       "    </tr>\n",
       "    <tr>\n",
       "      <th>distance_MRT</th>\n",
       "      <td>-0.005194</td>\n",
       "      <td>1.000000</td>\n",
       "      <td>-0.646510</td>\n",
       "      <td>-0.590310</td>\n",
       "      <td>-0.751744</td>\n",
       "      <td>-0.733758</td>\n",
       "    </tr>\n",
       "    <tr>\n",
       "      <th>stores</th>\n",
       "      <td>0.048563</td>\n",
       "      <td>-0.646510</td>\n",
       "      <td>1.000000</td>\n",
       "      <td>0.455083</td>\n",
       "      <td>0.450514</td>\n",
       "      <td>0.620631</td>\n",
       "    </tr>\n",
       "    <tr>\n",
       "      <th>latitude</th>\n",
       "      <td>0.056169</td>\n",
       "      <td>-0.590310</td>\n",
       "      <td>0.455083</td>\n",
       "      <td>1.000000</td>\n",
       "      <td>0.404720</td>\n",
       "      <td>0.578344</td>\n",
       "    </tr>\n",
       "    <tr>\n",
       "      <th>longitude</th>\n",
       "      <td>-0.030090</td>\n",
       "      <td>-0.751744</td>\n",
       "      <td>0.450514</td>\n",
       "      <td>0.404720</td>\n",
       "      <td>1.000000</td>\n",
       "      <td>0.546051</td>\n",
       "    </tr>\n",
       "    <tr>\n",
       "      <th>house_price</th>\n",
       "      <td>-0.213846</td>\n",
       "      <td>-0.733758</td>\n",
       "      <td>0.620631</td>\n",
       "      <td>0.578344</td>\n",
       "      <td>0.546051</td>\n",
       "      <td>1.000000</td>\n",
       "    </tr>\n",
       "  </tbody>\n",
       "</table>\n",
       "</div>"
      ],
      "text/plain": [
       "                   age  distance_MRT    stores  latitude  longitude  \\\n",
       "age           1.000000     -0.005194  0.048563  0.056169  -0.030090   \n",
       "distance_MRT -0.005194      1.000000 -0.646510 -0.590310  -0.751744   \n",
       "stores        0.048563     -0.646510  1.000000  0.455083   0.450514   \n",
       "latitude      0.056169     -0.590310  0.455083  1.000000   0.404720   \n",
       "longitude    -0.030090     -0.751744  0.450514  0.404720   1.000000   \n",
       "house_price  -0.213846     -0.733758  0.620631  0.578344   0.546051   \n",
       "\n",
       "              house_price  \n",
       "age             -0.213846  \n",
       "distance_MRT    -0.733758  \n",
       "stores           0.620631  \n",
       "latitude         0.578344  \n",
       "longitude        0.546051  \n",
       "house_price      1.000000  "
      ]
     },
     "execution_count": 51,
     "metadata": {},
     "output_type": "execute_result"
    }
   ],
   "source": [
    "new.corr()"
   ]
  },
  {
   "cell_type": "markdown",
   "id": "4d0cd2c2",
   "metadata": {},
   "source": [
    "# Checking null values in the data"
   ]
  },
  {
   "cell_type": "code",
   "execution_count": 52,
   "id": "a275ff96",
   "metadata": {},
   "outputs": [
    {
     "data": {
      "text/plain": [
       "age             0\n",
       "distance_MRT    0\n",
       "stores          0\n",
       "latitude        0\n",
       "longitude       0\n",
       "house_price     0\n",
       "dtype: int64"
      ]
     },
     "execution_count": 52,
     "metadata": {},
     "output_type": "execute_result"
    }
   ],
   "source": [
    "new.isna().sum()"
   ]
  },
  {
   "cell_type": "code",
   "execution_count": 75,
   "id": "a7d68efd",
   "metadata": {},
   "outputs": [],
   "source": [
    "X = new.iloc[:,0:5]\n",
    "\n",
    "y = new.iloc[:,5]\n",
    "\n",
    "from sklearn.model_selection import train_test_split\n",
    "X_train, X_test, y_train, y_test =train_test_split(X, y, train_size=0.7 ,random_state=120)"
   ]
  },
  {
   "cell_type": "code",
   "execution_count": 76,
   "id": "4f362cbb",
   "metadata": {},
   "outputs": [
    {
     "data": {
      "text/html": [
       "<div>\n",
       "<style scoped>\n",
       "    .dataframe tbody tr th:only-of-type {\n",
       "        vertical-align: middle;\n",
       "    }\n",
       "\n",
       "    .dataframe tbody tr th {\n",
       "        vertical-align: top;\n",
       "    }\n",
       "\n",
       "    .dataframe thead th {\n",
       "        text-align: right;\n",
       "    }\n",
       "</style>\n",
       "<table border=\"1\" class=\"dataframe\">\n",
       "  <thead>\n",
       "    <tr style=\"text-align: right;\">\n",
       "      <th></th>\n",
       "      <th>age</th>\n",
       "      <th>distance_MRT</th>\n",
       "      <th>stores</th>\n",
       "      <th>latitude</th>\n",
       "      <th>longitude</th>\n",
       "    </tr>\n",
       "  </thead>\n",
       "  <tbody>\n",
       "    <tr>\n",
       "      <th>0</th>\n",
       "      <td>32.0</td>\n",
       "      <td>84.87882</td>\n",
       "      <td>10</td>\n",
       "      <td>24.98298</td>\n",
       "      <td>121.540240</td>\n",
       "    </tr>\n",
       "    <tr>\n",
       "      <th>1</th>\n",
       "      <td>19.5</td>\n",
       "      <td>306.59470</td>\n",
       "      <td>9</td>\n",
       "      <td>24.98034</td>\n",
       "      <td>121.539510</td>\n",
       "    </tr>\n",
       "    <tr>\n",
       "      <th>2</th>\n",
       "      <td>13.3</td>\n",
       "      <td>561.98450</td>\n",
       "      <td>5</td>\n",
       "      <td>24.98746</td>\n",
       "      <td>121.543910</td>\n",
       "    </tr>\n",
       "    <tr>\n",
       "      <th>3</th>\n",
       "      <td>13.3</td>\n",
       "      <td>561.98450</td>\n",
       "      <td>5</td>\n",
       "      <td>24.98746</td>\n",
       "      <td>121.543910</td>\n",
       "    </tr>\n",
       "    <tr>\n",
       "      <th>4</th>\n",
       "      <td>5.0</td>\n",
       "      <td>390.56840</td>\n",
       "      <td>5</td>\n",
       "      <td>24.97937</td>\n",
       "      <td>121.542450</td>\n",
       "    </tr>\n",
       "    <tr>\n",
       "      <th>...</th>\n",
       "      <td>...</td>\n",
       "      <td>...</td>\n",
       "      <td>...</td>\n",
       "      <td>...</td>\n",
       "      <td>...</td>\n",
       "    </tr>\n",
       "    <tr>\n",
       "      <th>407</th>\n",
       "      <td>13.7</td>\n",
       "      <td>3205.50780</td>\n",
       "      <td>0</td>\n",
       "      <td>24.94155</td>\n",
       "      <td>121.503971</td>\n",
       "    </tr>\n",
       "    <tr>\n",
       "      <th>408</th>\n",
       "      <td>5.6</td>\n",
       "      <td>90.45606</td>\n",
       "      <td>9</td>\n",
       "      <td>24.97433</td>\n",
       "      <td>121.543100</td>\n",
       "    </tr>\n",
       "    <tr>\n",
       "      <th>409</th>\n",
       "      <td>18.8</td>\n",
       "      <td>390.96960</td>\n",
       "      <td>7</td>\n",
       "      <td>24.97923</td>\n",
       "      <td>121.539860</td>\n",
       "    </tr>\n",
       "    <tr>\n",
       "      <th>410</th>\n",
       "      <td>8.1</td>\n",
       "      <td>104.81010</td>\n",
       "      <td>5</td>\n",
       "      <td>24.96674</td>\n",
       "      <td>121.540670</td>\n",
       "    </tr>\n",
       "    <tr>\n",
       "      <th>411</th>\n",
       "      <td>6.5</td>\n",
       "      <td>90.45606</td>\n",
       "      <td>9</td>\n",
       "      <td>24.97433</td>\n",
       "      <td>121.543100</td>\n",
       "    </tr>\n",
       "  </tbody>\n",
       "</table>\n",
       "<p>412 rows × 5 columns</p>\n",
       "</div>"
      ],
      "text/plain": [
       "      age  distance_MRT  stores  latitude   longitude\n",
       "0    32.0      84.87882      10  24.98298  121.540240\n",
       "1    19.5     306.59470       9  24.98034  121.539510\n",
       "2    13.3     561.98450       5  24.98746  121.543910\n",
       "3    13.3     561.98450       5  24.98746  121.543910\n",
       "4     5.0     390.56840       5  24.97937  121.542450\n",
       "..    ...           ...     ...       ...         ...\n",
       "407  13.7    3205.50780       0  24.94155  121.503971\n",
       "408   5.6      90.45606       9  24.97433  121.543100\n",
       "409  18.8     390.96960       7  24.97923  121.539860\n",
       "410   8.1     104.81010       5  24.96674  121.540670\n",
       "411   6.5      90.45606       9  24.97433  121.543100\n",
       "\n",
       "[412 rows x 5 columns]"
      ]
     },
     "execution_count": 76,
     "metadata": {},
     "output_type": "execute_result"
    }
   ],
   "source": [
    "X"
   ]
  },
  {
   "cell_type": "markdown",
   "id": "ba572887",
   "metadata": {},
   "source": [
    "# Splitting of the data into Train and Test data"
   ]
  },
  {
   "cell_type": "code",
   "execution_count": 77,
   "id": "6fe023e1",
   "metadata": {},
   "outputs": [
    {
     "data": {
      "text/html": [
       "<div>\n",
       "<style scoped>\n",
       "    .dataframe tbody tr th:only-of-type {\n",
       "        vertical-align: middle;\n",
       "    }\n",
       "\n",
       "    .dataframe tbody tr th {\n",
       "        vertical-align: top;\n",
       "    }\n",
       "\n",
       "    .dataframe thead th {\n",
       "        text-align: right;\n",
       "    }\n",
       "</style>\n",
       "<table border=\"1\" class=\"dataframe\">\n",
       "  <thead>\n",
       "    <tr style=\"text-align: right;\">\n",
       "      <th></th>\n",
       "      <th>house_price</th>\n",
       "      <th>age</th>\n",
       "      <th>distance_MRT</th>\n",
       "      <th>stores</th>\n",
       "      <th>latitude</th>\n",
       "      <th>longitude</th>\n",
       "    </tr>\n",
       "  </thead>\n",
       "  <tbody>\n",
       "    <tr>\n",
       "      <th>51</th>\n",
       "      <td>20.7</td>\n",
       "      <td>31.3</td>\n",
       "      <td>1758.4060</td>\n",
       "      <td>1</td>\n",
       "      <td>24.95402</td>\n",
       "      <td>121.55282</td>\n",
       "    </tr>\n",
       "    <tr>\n",
       "      <th>332</th>\n",
       "      <td>22.8</td>\n",
       "      <td>30.0</td>\n",
       "      <td>1013.3410</td>\n",
       "      <td>5</td>\n",
       "      <td>24.99006</td>\n",
       "      <td>121.53460</td>\n",
       "    </tr>\n",
       "    <tr>\n",
       "      <th>163</th>\n",
       "      <td>55.2</td>\n",
       "      <td>0.0</td>\n",
       "      <td>185.4296</td>\n",
       "      <td>0</td>\n",
       "      <td>24.97110</td>\n",
       "      <td>121.53170</td>\n",
       "    </tr>\n",
       "    <tr>\n",
       "      <th>133</th>\n",
       "      <td>42.2</td>\n",
       "      <td>33.4</td>\n",
       "      <td>186.9686</td>\n",
       "      <td>6</td>\n",
       "      <td>24.96604</td>\n",
       "      <td>121.54211</td>\n",
       "    </tr>\n",
       "    <tr>\n",
       "      <th>244</th>\n",
       "      <td>40.8</td>\n",
       "      <td>7.5</td>\n",
       "      <td>639.6198</td>\n",
       "      <td>5</td>\n",
       "      <td>24.97258</td>\n",
       "      <td>121.54814</td>\n",
       "    </tr>\n",
       "  </tbody>\n",
       "</table>\n",
       "</div>"
      ],
      "text/plain": [
       "     house_price   age  distance_MRT  stores  latitude  longitude\n",
       "51          20.7  31.3     1758.4060       1  24.95402  121.55282\n",
       "332         22.8  30.0     1013.3410       5  24.99006  121.53460\n",
       "163         55.2   0.0      185.4296       0  24.97110  121.53170\n",
       "133         42.2  33.4      186.9686       6  24.96604  121.54211\n",
       "244         40.8   7.5      639.6198       5  24.97258  121.54814"
      ]
     },
     "execution_count": 77,
     "metadata": {},
     "output_type": "execute_result"
    }
   ],
   "source": [
    "df = pd.concat([y_train, X_train], axis=1)\n",
    "df.head()"
   ]
  },
  {
   "cell_type": "code",
   "execution_count": 78,
   "id": "430a096a",
   "metadata": {},
   "outputs": [
    {
     "data": {
      "text/html": [
       "<div>\n",
       "<style scoped>\n",
       "    .dataframe tbody tr th:only-of-type {\n",
       "        vertical-align: middle;\n",
       "    }\n",
       "\n",
       "    .dataframe tbody tr th {\n",
       "        vertical-align: top;\n",
       "    }\n",
       "\n",
       "    .dataframe thead th {\n",
       "        text-align: right;\n",
       "    }\n",
       "</style>\n",
       "<table border=\"1\" class=\"dataframe\">\n",
       "  <thead>\n",
       "    <tr style=\"text-align: right;\">\n",
       "      <th></th>\n",
       "      <th>house_price</th>\n",
       "      <th>age</th>\n",
       "      <th>distance_MRT</th>\n",
       "      <th>stores</th>\n",
       "      <th>latitude</th>\n",
       "      <th>longitude</th>\n",
       "    </tr>\n",
       "  </thead>\n",
       "  <tbody>\n",
       "    <tr>\n",
       "      <th>house_price</th>\n",
       "      <td>1.000000</td>\n",
       "      <td>-0.209087</td>\n",
       "      <td>-0.732085</td>\n",
       "      <td>0.613502</td>\n",
       "      <td>0.593564</td>\n",
       "      <td>0.528755</td>\n",
       "    </tr>\n",
       "    <tr>\n",
       "      <th>age</th>\n",
       "      <td>-0.209087</td>\n",
       "      <td>1.000000</td>\n",
       "      <td>-0.023732</td>\n",
       "      <td>0.096122</td>\n",
       "      <td>0.063722</td>\n",
       "      <td>-0.045701</td>\n",
       "    </tr>\n",
       "    <tr>\n",
       "      <th>distance_MRT</th>\n",
       "      <td>-0.732085</td>\n",
       "      <td>-0.023732</td>\n",
       "      <td>1.000000</td>\n",
       "      <td>-0.656462</td>\n",
       "      <td>-0.644384</td>\n",
       "      <td>-0.719384</td>\n",
       "    </tr>\n",
       "    <tr>\n",
       "      <th>stores</th>\n",
       "      <td>0.613502</td>\n",
       "      <td>0.096122</td>\n",
       "      <td>-0.656462</td>\n",
       "      <td>1.000000</td>\n",
       "      <td>0.491890</td>\n",
       "      <td>0.439347</td>\n",
       "    </tr>\n",
       "    <tr>\n",
       "      <th>latitude</th>\n",
       "      <td>0.593564</td>\n",
       "      <td>0.063722</td>\n",
       "      <td>-0.644384</td>\n",
       "      <td>0.491890</td>\n",
       "      <td>1.000000</td>\n",
       "      <td>0.410550</td>\n",
       "    </tr>\n",
       "    <tr>\n",
       "      <th>longitude</th>\n",
       "      <td>0.528755</td>\n",
       "      <td>-0.045701</td>\n",
       "      <td>-0.719384</td>\n",
       "      <td>0.439347</td>\n",
       "      <td>0.410550</td>\n",
       "      <td>1.000000</td>\n",
       "    </tr>\n",
       "  </tbody>\n",
       "</table>\n",
       "</div>"
      ],
      "text/plain": [
       "              house_price       age  distance_MRT    stores  latitude  \\\n",
       "house_price      1.000000 -0.209087     -0.732085  0.613502  0.593564   \n",
       "age             -0.209087  1.000000     -0.023732  0.096122  0.063722   \n",
       "distance_MRT    -0.732085 -0.023732      1.000000 -0.656462 -0.644384   \n",
       "stores           0.613502  0.096122     -0.656462  1.000000  0.491890   \n",
       "latitude         0.593564  0.063722     -0.644384  0.491890  1.000000   \n",
       "longitude        0.528755 -0.045701     -0.719384  0.439347  0.410550   \n",
       "\n",
       "              longitude  \n",
       "house_price    0.528755  \n",
       "age           -0.045701  \n",
       "distance_MRT  -0.719384  \n",
       "stores         0.439347  \n",
       "latitude       0.410550  \n",
       "longitude      1.000000  "
      ]
     },
     "execution_count": 78,
     "metadata": {},
     "output_type": "execute_result"
    }
   ],
   "source": [
    "df.corr()"
   ]
  },
  {
   "cell_type": "markdown",
   "id": "8216c0b3",
   "metadata": {},
   "source": [
    "# Checking multicollinearity in the data"
   ]
  },
  {
   "cell_type": "code",
   "execution_count": 79,
   "id": "42147934",
   "metadata": {},
   "outputs": [
    {
     "data": {
      "text/plain": [
       "age             3.536867e+00\n",
       "distance_MRT    4.088686e+00\n",
       "stores          5.272353e+00\n",
       "latitude        6.625496e+06\n",
       "longitude       6.626407e+06\n",
       "dtype: float64"
      ]
     },
     "execution_count": 79,
     "metadata": {},
     "output_type": "execute_result"
    }
   ],
   "source": [
    "import statsmodels\n",
    "from statsmodels.stats.anova import anova_lm\n",
    "from statsmodels.stats.outliers_influence import variance_inflation_factor\n",
    "\n",
    "X1=df.drop(['house_price'],axis=1)\n",
    "series_before = pd.Series([variance_inflation_factor(X1.values, i) \n",
    "                           for i in range(X1.shape[1])],  # i=0,1,2\n",
    "                          index=X1.columns)  # column name\n",
    "series_before"
   ]
  },
  {
   "cell_type": "markdown",
   "id": "b8cf549b",
   "metadata": {},
   "source": [
    "# Building multiple linear model on train data"
   ]
  },
  {
   "cell_type": "code",
   "execution_count": 94,
   "id": "b9eaeb90",
   "metadata": {},
   "outputs": [
    {
     "data": {
      "text/html": [
       "<table class=\"simpletable\">\n",
       "<caption>OLS Regression Results</caption>\n",
       "<tr>\n",
       "  <th>Dep. Variable:</th>       <td>house_price</td>   <th>  R-squared:         </th> <td>   0.657</td>\n",
       "</tr>\n",
       "<tr>\n",
       "  <th>Model:</th>                   <td>OLS</td>       <th>  Adj. R-squared:    </th> <td>   0.653</td>\n",
       "</tr>\n",
       "<tr>\n",
       "  <th>Method:</th>             <td>Least Squares</td>  <th>  F-statistic:       </th> <td>   155.8</td>\n",
       "</tr>\n",
       "<tr>\n",
       "  <th>Date:</th>             <td>Sun, 12 Mar 2023</td> <th>  Prob (F-statistic):</th> <td>4.26e-92</td>\n",
       "</tr>\n",
       "<tr>\n",
       "  <th>Time:</th>                 <td>11:08:58</td>     <th>  Log-Likelihood:    </th> <td> -1419.4</td>\n",
       "</tr>\n",
       "<tr>\n",
       "  <th>No. Observations:</th>      <td>   412</td>      <th>  AIC:               </th> <td>   2851.</td>\n",
       "</tr>\n",
       "<tr>\n",
       "  <th>Df Residuals:</th>          <td>   406</td>      <th>  BIC:               </th> <td>   2875.</td>\n",
       "</tr>\n",
       "<tr>\n",
       "  <th>Df Model:</th>              <td>     5</td>      <th>                     </th>     <td> </td>   \n",
       "</tr>\n",
       "<tr>\n",
       "  <th>Covariance Type:</th>      <td>nonrobust</td>    <th>                     </th>     <td> </td>   \n",
       "</tr>\n",
       "</table>\n",
       "<table class=\"simpletable\">\n",
       "<tr>\n",
       "        <td></td>          <th>coef</th>     <th>std err</th>      <th>t</th>      <th>P>|t|</th>  <th>[0.025</th>    <th>0.975]</th>  \n",
       "</tr>\n",
       "<tr>\n",
       "  <th>Intercept</th>    <td>-6585.4136</td> <td> 5134.424</td> <td>   -1.283</td> <td> 0.200</td> <td>-1.67e+04</td> <td> 3507.961</td>\n",
       "</tr>\n",
       "<tr>\n",
       "  <th>age</th>          <td>   -0.2727</td> <td>    0.033</td> <td>   -8.219</td> <td> 0.000</td> <td>   -0.338</td> <td>   -0.207</td>\n",
       "</tr>\n",
       "<tr>\n",
       "  <th>distance_MRT</th> <td>   -0.0059</td> <td>    0.001</td> <td>   -7.986</td> <td> 0.000</td> <td>   -0.007</td> <td>   -0.004</td>\n",
       "</tr>\n",
       "<tr>\n",
       "  <th>stores</th>       <td>    1.0707</td> <td>    0.169</td> <td>    6.321</td> <td> 0.000</td> <td>    0.738</td> <td>    1.404</td>\n",
       "</tr>\n",
       "<tr>\n",
       "  <th>longitude</th>    <td>    7.1120</td> <td>   40.975</td> <td>    0.174</td> <td> 0.862</td> <td>  -73.437</td> <td>   87.661</td>\n",
       "</tr>\n",
       "<tr>\n",
       "  <th>latitude</th>     <td>  230.8933</td> <td>   38.990</td> <td>    5.922</td> <td> 0.000</td> <td>  154.247</td> <td>  307.540</td>\n",
       "</tr>\n",
       "</table>\n",
       "<table class=\"simpletable\">\n",
       "<tr>\n",
       "  <th>Omnibus:</th>       <td>105.509</td> <th>  Durbin-Watson:     </th> <td>   2.019</td>\n",
       "</tr>\n",
       "<tr>\n",
       "  <th>Prob(Omnibus):</th> <td> 0.000</td>  <th>  Jarque-Bera (JB):  </th> <td> 286.718</td>\n",
       "</tr>\n",
       "<tr>\n",
       "  <th>Skew:</th>          <td> 1.220</td>  <th>  Prob(JB):          </th> <td>5.49e-63</td>\n",
       "</tr>\n",
       "<tr>\n",
       "  <th>Kurtosis:</th>      <td> 6.279</td>  <th>  Cond. No.          </th> <td>1.88e+07</td>\n",
       "</tr>\n",
       "</table><br/><br/>Notes:<br/>[1] Standard Errors assume that the covariance matrix of the errors is correctly specified.<br/>[2] The condition number is large, 1.88e+07. This might indicate that there are<br/>strong multicollinearity or other numerical problems."
      ],
      "text/plain": [
       "<class 'statsmodels.iolib.summary.Summary'>\n",
       "\"\"\"\n",
       "                            OLS Regression Results                            \n",
       "==============================================================================\n",
       "Dep. Variable:            house_price   R-squared:                       0.657\n",
       "Model:                            OLS   Adj. R-squared:                  0.653\n",
       "Method:                 Least Squares   F-statistic:                     155.8\n",
       "Date:                Sun, 12 Mar 2023   Prob (F-statistic):           4.26e-92\n",
       "Time:                        11:08:58   Log-Likelihood:                -1419.4\n",
       "No. Observations:                 412   AIC:                             2851.\n",
       "Df Residuals:                     406   BIC:                             2875.\n",
       "Df Model:                           5                                         \n",
       "Covariance Type:            nonrobust                                         \n",
       "================================================================================\n",
       "                   coef    std err          t      P>|t|      [0.025      0.975]\n",
       "--------------------------------------------------------------------------------\n",
       "Intercept    -6585.4136   5134.424     -1.283      0.200   -1.67e+04    3507.961\n",
       "age             -0.2727      0.033     -8.219      0.000      -0.338      -0.207\n",
       "distance_MRT    -0.0059      0.001     -7.986      0.000      -0.007      -0.004\n",
       "stores           1.0707      0.169      6.321      0.000       0.738       1.404\n",
       "longitude        7.1120     40.975      0.174      0.862     -73.437      87.661\n",
       "latitude       230.8933     38.990      5.922      0.000     154.247     307.540\n",
       "==============================================================================\n",
       "Omnibus:                      105.509   Durbin-Watson:                   2.019\n",
       "Prob(Omnibus):                  0.000   Jarque-Bera (JB):              286.718\n",
       "Skew:                           1.220   Prob(JB):                     5.49e-63\n",
       "Kurtosis:                       6.279   Cond. No.                     1.88e+07\n",
       "==============================================================================\n",
       "\n",
       "Notes:\n",
       "[1] Standard Errors assume that the covariance matrix of the errors is correctly specified.\n",
       "[2] The condition number is large, 1.88e+07. This might indicate that there are\n",
       "strong multicollinearity or other numerical problems.\n",
       "\"\"\""
      ]
     },
     "execution_count": 94,
     "metadata": {},
     "output_type": "execute_result"
    }
   ],
   "source": [
    "import statsmodels.formula.api as smf\n",
    "model2 = smf.ols('house_price ~ age + distance_MRT + stores + longitude + latitude',data=new).fit()\n",
    "model2.summary()"
   ]
  },
  {
   "cell_type": "markdown",
   "id": "29e61090",
   "metadata": {},
   "source": [
    "# Removing insignificant independent variables from the data"
   ]
  },
  {
   "cell_type": "code",
   "execution_count": 80,
   "id": "a3b71460",
   "metadata": {},
   "outputs": [
    {
     "data": {
      "text/html": [
       "<table class=\"simpletable\">\n",
       "<caption>OLS Regression Results</caption>\n",
       "<tr>\n",
       "  <th>Dep. Variable:</th>       <td>house_price</td>   <th>  R-squared:         </th> <td>   0.628</td>\n",
       "</tr>\n",
       "<tr>\n",
       "  <th>Model:</th>                   <td>OLS</td>       <th>  Adj. R-squared:    </th> <td>   0.625</td>\n",
       "</tr>\n",
       "<tr>\n",
       "  <th>Method:</th>             <td>Least Squares</td>  <th>  F-statistic:       </th> <td>   229.4</td>\n",
       "</tr>\n",
       "<tr>\n",
       "  <th>Date:</th>             <td>Sun, 12 Mar 2023</td> <th>  Prob (F-statistic):</th> <td>3.54e-87</td>\n",
       "</tr>\n",
       "<tr>\n",
       "  <th>Time:</th>                 <td>11:04:09</td>     <th>  Log-Likelihood:    </th> <td> -1436.5</td>\n",
       "</tr>\n",
       "<tr>\n",
       "  <th>No. Observations:</th>      <td>   412</td>      <th>  AIC:               </th> <td>   2881.</td>\n",
       "</tr>\n",
       "<tr>\n",
       "  <th>Df Residuals:</th>          <td>   408</td>      <th>  BIC:               </th> <td>   2897.</td>\n",
       "</tr>\n",
       "<tr>\n",
       "  <th>Df Model:</th>              <td>     3</td>      <th>                     </th>     <td> </td>   \n",
       "</tr>\n",
       "<tr>\n",
       "  <th>Covariance Type:</th>      <td>nonrobust</td>    <th>                     </th>     <td> </td>   \n",
       "</tr>\n",
       "</table>\n",
       "<table class=\"simpletable\">\n",
       "<tr>\n",
       "        <td></td>          <th>coef</th>     <th>std err</th>      <th>t</th>      <th>P>|t|</th>  <th>[0.025</th>    <th>0.975]</th>  \n",
       "</tr>\n",
       "<tr>\n",
       "  <th>Intercept</th>    <td>   44.9728</td> <td>    1.308</td> <td>   34.377</td> <td> 0.000</td> <td>   42.401</td> <td>   47.545</td>\n",
       "</tr>\n",
       "<tr>\n",
       "  <th>age</th>          <td>   -0.2613</td> <td>    0.034</td> <td>   -7.596</td> <td> 0.000</td> <td>   -0.329</td> <td>   -0.194</td>\n",
       "</tr>\n",
       "<tr>\n",
       "  <th>distance_MRT</th> <td>   -0.0075</td> <td>    0.001</td> <td>  -14.160</td> <td> 0.000</td> <td>   -0.009</td> <td>   -0.006</td>\n",
       "</tr>\n",
       "<tr>\n",
       "  <th>stores</th>       <td>    1.1849</td> <td>    0.175</td> <td>    6.786</td> <td> 0.000</td> <td>    0.842</td> <td>    1.528</td>\n",
       "</tr>\n",
       "</table>\n",
       "<table class=\"simpletable\">\n",
       "<tr>\n",
       "  <th>Omnibus:</th>       <td>98.902</td> <th>  Durbin-Watson:     </th> <td>   1.973</td>\n",
       "</tr>\n",
       "<tr>\n",
       "  <th>Prob(Omnibus):</th> <td> 0.000</td> <th>  Jarque-Bera (JB):  </th> <td> 241.828</td>\n",
       "</tr>\n",
       "<tr>\n",
       "  <th>Skew:</th>          <td> 1.187</td> <th>  Prob(JB):          </th> <td>3.07e-53</td>\n",
       "</tr>\n",
       "<tr>\n",
       "  <th>Kurtosis:</th>      <td> 5.908</td> <th>  Cond. No.          </th> <td>4.63e+03</td>\n",
       "</tr>\n",
       "</table><br/><br/>Notes:<br/>[1] Standard Errors assume that the covariance matrix of the errors is correctly specified.<br/>[2] The condition number is large, 4.63e+03. This might indicate that there are<br/>strong multicollinearity or other numerical problems."
      ],
      "text/plain": [
       "<class 'statsmodels.iolib.summary.Summary'>\n",
       "\"\"\"\n",
       "                            OLS Regression Results                            \n",
       "==============================================================================\n",
       "Dep. Variable:            house_price   R-squared:                       0.628\n",
       "Model:                            OLS   Adj. R-squared:                  0.625\n",
       "Method:                 Least Squares   F-statistic:                     229.4\n",
       "Date:                Sun, 12 Mar 2023   Prob (F-statistic):           3.54e-87\n",
       "Time:                        11:04:09   Log-Likelihood:                -1436.5\n",
       "No. Observations:                 412   AIC:                             2881.\n",
       "Df Residuals:                     408   BIC:                             2897.\n",
       "Df Model:                           3                                         \n",
       "Covariance Type:            nonrobust                                         \n",
       "================================================================================\n",
       "                   coef    std err          t      P>|t|      [0.025      0.975]\n",
       "--------------------------------------------------------------------------------\n",
       "Intercept       44.9728      1.308     34.377      0.000      42.401      47.545\n",
       "age             -0.2613      0.034     -7.596      0.000      -0.329      -0.194\n",
       "distance_MRT    -0.0075      0.001    -14.160      0.000      -0.009      -0.006\n",
       "stores           1.1849      0.175      6.786      0.000       0.842       1.528\n",
       "==============================================================================\n",
       "Omnibus:                       98.902   Durbin-Watson:                   1.973\n",
       "Prob(Omnibus):                  0.000   Jarque-Bera (JB):              241.828\n",
       "Skew:                           1.187   Prob(JB):                     3.07e-53\n",
       "Kurtosis:                       5.908   Cond. No.                     4.63e+03\n",
       "==============================================================================\n",
       "\n",
       "Notes:\n",
       "[1] Standard Errors assume that the covariance matrix of the errors is correctly specified.\n",
       "[2] The condition number is large, 4.63e+03. This might indicate that there are\n",
       "strong multicollinearity or other numerical problems.\n",
       "\"\"\""
      ]
     },
     "execution_count": 80,
     "metadata": {},
     "output_type": "execute_result"
    }
   ],
   "source": [
    "import statsmodels.formula.api as smf\n",
    "model2 = smf.ols('house_price ~ age + distance_MRT + stores',data=new).fit()\n",
    "model2.summary()"
   ]
  },
  {
   "cell_type": "markdown",
   "id": "d24e44e9",
   "metadata": {},
   "source": [
    "# Model fitted on train dataset is\n",
    "Y=44.9728 - 0.2613 * age - 0.0075 * distant_MRT + 1.1849 * stores\n"
   ]
  },
  {
   "cell_type": "code",
   "execution_count": 81,
   "id": "43e70f79",
   "metadata": {},
   "outputs": [
    {
     "data": {
      "text/html": [
       "<div>\n",
       "<style scoped>\n",
       "    .dataframe tbody tr th:only-of-type {\n",
       "        vertical-align: middle;\n",
       "    }\n",
       "\n",
       "    .dataframe tbody tr th {\n",
       "        vertical-align: top;\n",
       "    }\n",
       "\n",
       "    .dataframe thead th {\n",
       "        text-align: right;\n",
       "    }\n",
       "</style>\n",
       "<table border=\"1\" class=\"dataframe\">\n",
       "  <thead>\n",
       "    <tr style=\"text-align: right;\">\n",
       "      <th></th>\n",
       "      <th>house_price</th>\n",
       "      <th>age</th>\n",
       "      <th>distance_MRT</th>\n",
       "      <th>stores</th>\n",
       "      <th>latitude</th>\n",
       "      <th>longitude</th>\n",
       "      <th>fitted_value</th>\n",
       "      <th>residual</th>\n",
       "    </tr>\n",
       "  </thead>\n",
       "  <tbody>\n",
       "    <tr>\n",
       "      <th>51</th>\n",
       "      <td>20.7</td>\n",
       "      <td>31.3</td>\n",
       "      <td>1758.4060</td>\n",
       "      <td>1</td>\n",
       "      <td>24.95402</td>\n",
       "      <td>121.552820</td>\n",
       "      <td>24.796726</td>\n",
       "      <td>-4.096726</td>\n",
       "    </tr>\n",
       "    <tr>\n",
       "      <th>332</th>\n",
       "      <td>22.8</td>\n",
       "      <td>30.0</td>\n",
       "      <td>1013.3410</td>\n",
       "      <td>5</td>\n",
       "      <td>24.99006</td>\n",
       "      <td>121.534600</td>\n",
       "      <td>35.461902</td>\n",
       "      <td>-12.661902</td>\n",
       "    </tr>\n",
       "    <tr>\n",
       "      <th>163</th>\n",
       "      <td>55.2</td>\n",
       "      <td>0.0</td>\n",
       "      <td>185.4296</td>\n",
       "      <td>0</td>\n",
       "      <td>24.97110</td>\n",
       "      <td>121.531700</td>\n",
       "      <td>43.582670</td>\n",
       "      <td>11.617330</td>\n",
       "    </tr>\n",
       "    <tr>\n",
       "      <th>133</th>\n",
       "      <td>42.2</td>\n",
       "      <td>33.4</td>\n",
       "      <td>186.9686</td>\n",
       "      <td>6</td>\n",
       "      <td>24.96604</td>\n",
       "      <td>121.542110</td>\n",
       "      <td>41.953736</td>\n",
       "      <td>0.246264</td>\n",
       "    </tr>\n",
       "    <tr>\n",
       "      <th>244</th>\n",
       "      <td>40.8</td>\n",
       "      <td>7.5</td>\n",
       "      <td>639.6198</td>\n",
       "      <td>5</td>\n",
       "      <td>24.97258</td>\n",
       "      <td>121.548140</td>\n",
       "      <td>44.142687</td>\n",
       "      <td>-3.342687</td>\n",
       "    </tr>\n",
       "    <tr>\n",
       "      <th>...</th>\n",
       "      <td>...</td>\n",
       "      <td>...</td>\n",
       "      <td>...</td>\n",
       "      <td>...</td>\n",
       "      <td>...</td>\n",
       "      <td>...</td>\n",
       "      <td>...</td>\n",
       "      <td>...</td>\n",
       "    </tr>\n",
       "    <tr>\n",
       "      <th>382</th>\n",
       "      <td>12.9</td>\n",
       "      <td>16.1</td>\n",
       "      <td>3205.5078</td>\n",
       "      <td>0</td>\n",
       "      <td>24.94297</td>\n",
       "      <td>121.503971</td>\n",
       "      <td>16.734533</td>\n",
       "      <td>-3.834533</td>\n",
       "    </tr>\n",
       "    <tr>\n",
       "      <th>223</th>\n",
       "      <td>46.0</td>\n",
       "      <td>34.5</td>\n",
       "      <td>324.9419</td>\n",
       "      <td>6</td>\n",
       "      <td>24.97814</td>\n",
       "      <td>121.541700</td>\n",
       "      <td>40.631938</td>\n",
       "      <td>5.368062</td>\n",
       "    </tr>\n",
       "    <tr>\n",
       "      <th>158</th>\n",
       "      <td>37.4</td>\n",
       "      <td>15.5</td>\n",
       "      <td>815.9314</td>\n",
       "      <td>4</td>\n",
       "      <td>24.97886</td>\n",
       "      <td>121.534640</td>\n",
       "      <td>39.545625</td>\n",
       "      <td>-2.145625</td>\n",
       "    </tr>\n",
       "    <tr>\n",
       "      <th>256</th>\n",
       "      <td>43.9</td>\n",
       "      <td>17.3</td>\n",
       "      <td>444.1334</td>\n",
       "      <td>1</td>\n",
       "      <td>24.97501</td>\n",
       "      <td>121.527300</td>\n",
       "      <td>38.307816</td>\n",
       "      <td>5.592184</td>\n",
       "    </tr>\n",
       "    <tr>\n",
       "      <th>167</th>\n",
       "      <td>37.4</td>\n",
       "      <td>27.6</td>\n",
       "      <td>515.1122</td>\n",
       "      <td>5</td>\n",
       "      <td>24.96299</td>\n",
       "      <td>121.543200</td>\n",
       "      <td>39.824193</td>\n",
       "      <td>-2.424193</td>\n",
       "    </tr>\n",
       "  </tbody>\n",
       "</table>\n",
       "<p>288 rows × 8 columns</p>\n",
       "</div>"
      ],
      "text/plain": [
       "     house_price   age  distance_MRT  stores  latitude   longitude  \\\n",
       "51          20.7  31.3     1758.4060       1  24.95402  121.552820   \n",
       "332         22.8  30.0     1013.3410       5  24.99006  121.534600   \n",
       "163         55.2   0.0      185.4296       0  24.97110  121.531700   \n",
       "133         42.2  33.4      186.9686       6  24.96604  121.542110   \n",
       "244         40.8   7.5      639.6198       5  24.97258  121.548140   \n",
       "..           ...   ...           ...     ...       ...         ...   \n",
       "382         12.9  16.1     3205.5078       0  24.94297  121.503971   \n",
       "223         46.0  34.5      324.9419       6  24.97814  121.541700   \n",
       "158         37.4  15.5      815.9314       4  24.97886  121.534640   \n",
       "256         43.9  17.3      444.1334       1  24.97501  121.527300   \n",
       "167         37.4  27.6      515.1122       5  24.96299  121.543200   \n",
       "\n",
       "     fitted_value   residual  \n",
       "51      24.796726  -4.096726  \n",
       "332     35.461902 -12.661902  \n",
       "163     43.582670  11.617330  \n",
       "133     41.953736   0.246264  \n",
       "244     44.142687  -3.342687  \n",
       "..            ...        ...  \n",
       "382     16.734533  -3.834533  \n",
       "223     40.631938   5.368062  \n",
       "158     39.545625  -2.145625  \n",
       "256     38.307816   5.592184  \n",
       "167     39.824193  -2.424193  \n",
       "\n",
       "[288 rows x 8 columns]"
      ]
     },
     "execution_count": 81,
     "metadata": {},
     "output_type": "execute_result"
    }
   ],
   "source": [
    "df['fitted_value']=model2.fittedvalues #Predicted Value\n",
    "df['residual']=model2.resid  #Error\n",
    "df"
   ]
  },
  {
   "cell_type": "markdown",
   "id": "90e9f3c5",
   "metadata": {},
   "source": [
    "# Checking assumptions"
   ]
  },
  {
   "cell_type": "markdown",
   "id": "550bec71",
   "metadata": {},
   "source": [
    "# Homoscedasticity"
   ]
  },
  {
   "cell_type": "code",
   "execution_count": 82,
   "id": "75149406",
   "metadata": {},
   "outputs": [
    {
     "data": {
      "text/plain": [
       "<AxesSubplot:xlabel='fitted_value', ylabel='residual'>"
      ]
     },
     "execution_count": 82,
     "metadata": {},
     "output_type": "execute_result"
    },
    {
     "data": {
      "image/png": "[encoded data removed]",
      "text/plain": [
       "<Figure size 640x480 with 1 Axes>"
      ]
     },
     "metadata": {},
     "output_type": "display_data"
    }
   ],
   "source": [
    "sns.scatterplot(x='fitted_value', y='residual',data=df)"
   ]
  },
  {
   "cell_type": "markdown",
   "id": "5fd5cbd3",
   "metadata": {},
   "source": [
    "# Normality of residuals"
   ]
  },
  {
   "cell_type": "code",
   "execution_count": 83,
   "id": "bab08044",
   "metadata": {},
   "outputs": [
    {
     "data": {
      "image/png": "[encoded data removed]",
      "text/plain": [
       "<Figure size 640x480 with 1 Axes>"
      ]
     },
     "metadata": {},
     "output_type": "display_data"
    }
   ],
   "source": [
    "import seaborn as sns\n",
    "from matplotlib import pyplot as plt\n",
    "%matplotlib inline\n",
    "import statsmodels.api as sm\n",
    "fig = sm.qqplot(df['residual'], fit=True, line='s') # s indicate standardized line\n",
    "plt.show()"
   ]
  },
  {
   "cell_type": "markdown",
   "id": "4a7a1022",
   "metadata": {},
   "source": [
    "# Model errors are IID"
   ]
  },
  {
   "cell_type": "code",
   "execution_count": 84,
   "id": "3629f849",
   "metadata": {},
   "outputs": [
    {
     "data": {
      "text/plain": [
       "<AxesSubplot:ylabel='Frequency'>"
      ]
     },
     "execution_count": 84,
     "metadata": {},
     "output_type": "execute_result"
    },
    {
     "data": {
      "image/png": "[encoded data removed]",
      "text/plain": [
       "<Figure size 640x480 with 1 Axes>"
      ]
     },
     "metadata": {},
     "output_type": "display_data"
    }
   ],
   "source": [
    "df['residual'].plot.hist()"
   ]
  },
  {
   "cell_type": "code",
   "execution_count": 85,
   "id": "fbafde40",
   "metadata": {},
   "outputs": [
    {
     "data": {
      "text/html": [
       "<div>\n",
       "<style scoped>\n",
       "    .dataframe tbody tr th:only-of-type {\n",
       "        vertical-align: middle;\n",
       "    }\n",
       "\n",
       "    .dataframe tbody tr th {\n",
       "        vertical-align: top;\n",
       "    }\n",
       "\n",
       "    .dataframe thead th {\n",
       "        text-align: right;\n",
       "    }\n",
       "</style>\n",
       "<table border=\"1\" class=\"dataframe\">\n",
       "  <thead>\n",
       "    <tr style=\"text-align: right;\">\n",
       "      <th></th>\n",
       "      <th>age</th>\n",
       "      <th>distance_MRT</th>\n",
       "      <th>stores</th>\n",
       "      <th>latitude</th>\n",
       "      <th>longitude</th>\n",
       "      <th>house_price</th>\n",
       "    </tr>\n",
       "  </thead>\n",
       "  <tbody>\n",
       "    <tr>\n",
       "      <th>409</th>\n",
       "      <td>18.8</td>\n",
       "      <td>390.9696</td>\n",
       "      <td>7</td>\n",
       "      <td>24.97923</td>\n",
       "      <td>121.53986</td>\n",
       "      <td>40.6</td>\n",
       "    </tr>\n",
       "    <tr>\n",
       "      <th>118</th>\n",
       "      <td>16.6</td>\n",
       "      <td>289.3248</td>\n",
       "      <td>5</td>\n",
       "      <td>24.98203</td>\n",
       "      <td>121.54348</td>\n",
       "      <td>59.6</td>\n",
       "    </tr>\n",
       "    <tr>\n",
       "      <th>34</th>\n",
       "      <td>15.4</td>\n",
       "      <td>205.3670</td>\n",
       "      <td>7</td>\n",
       "      <td>24.98419</td>\n",
       "      <td>121.54243</td>\n",
       "      <td>55.1</td>\n",
       "    </tr>\n",
       "    <tr>\n",
       "      <th>399</th>\n",
       "      <td>7.6</td>\n",
       "      <td>2175.0300</td>\n",
       "      <td>3</td>\n",
       "      <td>24.96305</td>\n",
       "      <td>121.51254</td>\n",
       "      <td>27.7</td>\n",
       "    </tr>\n",
       "    <tr>\n",
       "      <th>216</th>\n",
       "      <td>28.0</td>\n",
       "      <td>372.6242</td>\n",
       "      <td>6</td>\n",
       "      <td>24.97838</td>\n",
       "      <td>121.54119</td>\n",
       "      <td>40.8</td>\n",
       "    </tr>\n",
       "  </tbody>\n",
       "</table>\n",
       "</div>"
      ],
      "text/plain": [
       "      age  distance_MRT  stores  latitude  longitude  house_price\n",
       "409  18.8      390.9696       7  24.97923  121.53986         40.6\n",
       "118  16.6      289.3248       5  24.98203  121.54348         59.6\n",
       "34   15.4      205.3670       7  24.98419  121.54243         55.1\n",
       "399   7.6     2175.0300       3  24.96305  121.51254         27.7\n",
       "216  28.0      372.6242       6  24.97838  121.54119         40.8"
      ]
     },
     "execution_count": 85,
     "metadata": {},
     "output_type": "execute_result"
    }
   ],
   "source": [
    "df_test=pd.concat([X_test,y_test],axis=1)\n",
    "\n",
    "df_test.head()"
   ]
  },
  {
   "cell_type": "code",
   "execution_count": 86,
   "id": "529f1698",
   "metadata": {},
   "outputs": [
    {
     "data": {
      "text/html": [
       "<div>\n",
       "<style scoped>\n",
       "    .dataframe tbody tr th:only-of-type {\n",
       "        vertical-align: middle;\n",
       "    }\n",
       "\n",
       "    .dataframe tbody tr th {\n",
       "        vertical-align: top;\n",
       "    }\n",
       "\n",
       "    .dataframe thead th {\n",
       "        text-align: right;\n",
       "    }\n",
       "</style>\n",
       "<table border=\"1\" class=\"dataframe\">\n",
       "  <thead>\n",
       "    <tr style=\"text-align: right;\">\n",
       "      <th></th>\n",
       "      <th>age</th>\n",
       "      <th>distance_MRT</th>\n",
       "      <th>stores</th>\n",
       "      <th>latitude</th>\n",
       "      <th>longitude</th>\n",
       "      <th>house_price</th>\n",
       "      <th>Prediction</th>\n",
       "    </tr>\n",
       "  </thead>\n",
       "  <tbody>\n",
       "    <tr>\n",
       "      <th>409</th>\n",
       "      <td>18.8</td>\n",
       "      <td>390.9696</td>\n",
       "      <td>7</td>\n",
       "      <td>24.97923</td>\n",
       "      <td>121.53986</td>\n",
       "      <td>40.6</td>\n",
       "      <td>45.424125</td>\n",
       "    </tr>\n",
       "    <tr>\n",
       "      <th>118</th>\n",
       "      <td>16.6</td>\n",
       "      <td>289.3248</td>\n",
       "      <td>5</td>\n",
       "      <td>24.98203</td>\n",
       "      <td>121.54348</td>\n",
       "      <td>59.6</td>\n",
       "      <td>44.391096</td>\n",
       "    </tr>\n",
       "    <tr>\n",
       "      <th>34</th>\n",
       "      <td>15.4</td>\n",
       "      <td>205.3670</td>\n",
       "      <td>7</td>\n",
       "      <td>24.98419</td>\n",
       "      <td>121.54243</td>\n",
       "      <td>55.1</td>\n",
       "      <td>47.703963</td>\n",
       "    </tr>\n",
       "    <tr>\n",
       "      <th>399</th>\n",
       "      <td>7.6</td>\n",
       "      <td>2175.0300</td>\n",
       "      <td>3</td>\n",
       "      <td>24.96305</td>\n",
       "      <td>121.51254</td>\n",
       "      <td>27.7</td>\n",
       "      <td>30.235773</td>\n",
       "    </tr>\n",
       "    <tr>\n",
       "      <th>216</th>\n",
       "      <td>28.0</td>\n",
       "      <td>372.6242</td>\n",
       "      <td>6</td>\n",
       "      <td>24.97838</td>\n",
       "      <td>121.54119</td>\n",
       "      <td>40.8</td>\n",
       "      <td>41.972849</td>\n",
       "    </tr>\n",
       "  </tbody>\n",
       "</table>\n",
       "</div>"
      ],
      "text/plain": [
       "      age  distance_MRT  stores  latitude  longitude  house_price  Prediction\n",
       "409  18.8      390.9696       7  24.97923  121.53986         40.6   45.424125\n",
       "118  16.6      289.3248       5  24.98203  121.54348         59.6   44.391096\n",
       "34   15.4      205.3670       7  24.98419  121.54243         55.1   47.703963\n",
       "399   7.6     2175.0300       3  24.96305  121.51254         27.7   30.235773\n",
       "216  28.0      372.6242       6  24.97838  121.54119         40.8   41.972849"
      ]
     },
     "execution_count": 86,
     "metadata": {},
     "output_type": "execute_result"
    }
   ],
   "source": [
    "df_test['Prediction']=model2.predict(df_test) # predict = all row prediction ( Auto )\n",
    "df_test.head()"
   ]
  },
  {
   "cell_type": "code",
   "execution_count": 87,
   "id": "4c716bb8",
   "metadata": {},
   "outputs": [
    {
     "name": "stdout",
     "output_type": "stream",
     "text": [
      "R2 score for model Performance on Test 0.63\n"
     ]
    }
   ],
   "source": [
    "from sklearn.metrics import r2_score\n",
    "r2 = r2_score(df_test.house_price, df_test.Prediction)\n",
    "print('R2 score for model Performance on Test', np.round(r2,2))"
   ]
  },
  {
   "cell_type": "code",
   "execution_count": 88,
   "id": "4e7c2232",
   "metadata": {},
   "outputs": [
    {
     "name": "stdout",
     "output_type": "stream",
     "text": [
      "R2 score for model Performance on Test 0.63\n"
     ]
    }
   ],
   "source": [
    "from sklearn.metrics import r2_score\n",
    "r2 = r2_score(df.house_price, df.fitted_value)\n",
    "print('R2 score for model Performance on Test', np.round(r2,2))"
   ]
  }
 ],
 "metadata": {
  "kernelspec": {
   "display_name": "Python 3 (ipykernel)",
   "language": "python",
   "name": "python3"
  },
  "language_info": {
   "codemirror_mode": {
    "name": "ipython",
    "version": 3
   },
   "file_extension": ".py",
   "mimetype": "text/x-python",
   "name": "python",
   "nbconvert_exporter": "python",
   "pygments_lexer": "ipython3",
   "version": "3.9.13"
  }
 },
 "nbformat": 4,
 "nbformat_minor": 5
}
